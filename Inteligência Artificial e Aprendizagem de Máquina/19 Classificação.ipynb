{
 "cells": [
  {
   "cell_type": "markdown",
   "id": "eaef01ad",
   "metadata": {},
   "source": [
    "# Redes Neurais para Classificação de Objetos\n",
    "\n",
    "Neste notebook, vamos aprender os fundamentos de **redes neurais artificiais** aplicadas à classificação de objetos. \n",
    "Trabalharemos com o dataset **digits** do sklearn, que contém imagens de dígitos de 0 a 9. \n",
    "\n",
    "O objetivo é introduzir os conceitos de **MLP (Multilayer Perceptron)**, **pré-processamento**, **treinamento**, e **avaliação de modelos** antes de avançarmos para redes convolucionais em aulas futuras."
   ]
  },
  {
   "cell_type": "markdown",
   "id": "158319ee",
   "metadata": {},
   "source": [
    "## 1. Conceitos teóricos\n",
    "\n",
    "**Redes Neurais Artificiais (ANN)** são modelos inspirados no funcionamento do cérebro humano. Elas são formadas por **neurônios artificiais** organizados em camadas:\n",
    "\n",
    "- **Camada de entrada:** recebe os dados brutos (ex.: pixels de uma imagem).\n",
    "- **Camadas escondidas:** processam os dados aplicando funções de ativação, detectando padrões complexos.\n",
    "- **Camada de saída:** produz a previsão final, por exemplo, a classe de um dígito.\n",
    "\n",
    "### Funcionamento de uma camada:\n",
    "Cada neurônio realiza:\n",
    "1. Uma **combinação linear** dos inputs: 𝑧 = w1*x1 + w2*x2 + ... + b\n",
    "2. Passa o resultado por uma **função de ativação** (ex.: ReLU, sigmoid, softmax)\n",
    "\n",
    "### Aprendizado:\n",
    "- O modelo ajusta os **pesos (w)** e **bias (b)** para minimizar a diferença entre previsão e valor real.\n",
    "- Usamos **backpropagation** + **otimizadores** (ex.: Adam) para atualizar os pesos."
   ]
  },
  {
   "cell_type": "markdown",
   "id": "03416a13",
   "metadata": {},
   "source": [
    "### Por que MLP funciona para imagens pequenas\n",
    "- Cada pixel da imagem é tratado como uma característica independente.\n",
    "- Para imagens pequenas (8x8), isso é suficiente para classificar os dígitos.\n",
    "- Limitação: não preserva **informação espacial** (vizinhaça de pixels), mas introduziremos isso mais tarde em CNNs."
   ]
  },
  {
   "cell_type": "markdown",
   "id": "aae6a514",
   "metadata": {},
   "source": [
    "## 2. Importando bibliotecas"
   ]
  },
  {
   "cell_type": "code",
   "execution_count": null,
   "id": "d538b383",
   "metadata": {},
   "outputs": [],
   "source": [
    "import numpy as np\n",
    "import matplotlib.pyplot as plt\n",
    "from sklearn.datasets import load_digits\n",
    "from sklearn.model_selection import train_test_split\n",
    "from sklearn.preprocessing import StandardScaler\n",
    "from tensorflow.keras.models import Sequential\n",
    "from tensorflow.keras.layers import Dense\n",
    "from tensorflow.keras.utils import to_categorical"
   ]
  },
  {
   "cell_type": "markdown",
   "id": "fec52d35",
   "metadata": {},
   "source": [
    "## 3. Carregando e explorando os dados"
   ]
  },
  {
   "cell_type": "code",
   "execution_count": null,
   "id": "daa5649c",
   "metadata": {},
   "outputs": [],
   "source": [
    "digits = load_digits()\n",
    "X = digits.images\n",
    "y = digits.target\n",
    "\n",
    "plt.figure(figsize=(8,4))\n",
    "for i in range(10):\n",
    "    plt.subplot(2,5,i+1)\n",
    "    plt.imshow(X[i], cmap='gray')\n",
    "    plt.title(y[i])\n",
    "    plt.axis('off')\n",
    "plt.show()"
   ]
  },
  {
   "cell_type": "markdown",
   "id": "1d45f163",
   "metadata": {},
   "source": [
    "## 4. Pré-processamento dos dados\n",
    "\n",
    "Passos necessários antes de treinar a rede:\n",
    "1. Achatar imagens 8x8 → vetor de 64 elementos.\n",
    "2. Normalizar valores dos pixels para melhorar aprendizado.\n",
    "3. Transformar classes em **one-hot encoding** para usar softmax."
   ]
  },
  {
   "cell_type": "code",
   "execution_count": null,
   "id": "548e3f7f",
   "metadata": {},
   "outputs": [],
   "source": [
    "X_flat = X.reshape((X.shape[0], -1))\n",
    "scaler = StandardScaler()\n",
    "X_scaled = scaler.fit_transform(X_flat)\n",
    "y_cat = to_categorical(y, num_classes=10)\n",
    "X_train, X_test, y_train, y_test = train_test_split(X_scaled, y_cat, test_size=0.2, random_state=42)"
   ]
  },
  {
   "cell_type": "markdown",
   "id": "62a398ea",
   "metadata": {},
   "source": [
    "## 5. Construindo a rede neural\n",
    "\n",
    "Estrutura simples:\n",
    "- Camada oculta: 32 neurônios, ReLU\n",
    "- Camada de saída: 10 neurônios, softmax\n",
    "\n",
    "**Funções de ativação:**\n",
    "- ReLU: mantém valores positivos e zera negativos, ajuda aprendizado rápido\n",
    "- Softmax: transforma saídas em probabilidades somando 1"
   ]
  },
  {
   "cell_type": "code",
   "execution_count": null,
   "id": "f92ca64c",
   "metadata": {},
   "outputs": [],
   "source": [
    "model = Sequential([\n",
    "    Dense(32, activation='relu', input_shape=(64,)),\n",
    "    Dense(10, activation='softmax')\n",
    "])\n",
    "\n",
    "model.compile(optimizer='adam', loss='categorical_crossentropy', metrics=['accuracy'])\n",
    "model.summary()"
   ]
  },
  {
   "cell_type": "markdown",
   "id": "ff558ceb",
   "metadata": {},
   "source": [
    "## 6. Treinando a rede\n",
    "\n",
    "- Validamos o modelo durante o treinamento para monitorar overfitting.\n",
    "- Número de épocas: 30\n",
    "- Batch size: 32"
   ]
  },
  {
   "cell_type": "code",
   "execution_count": null,
   "id": "a8ef11a9",
   "metadata": {},
   "outputs": [],
   "source": [
    "history = model.fit(X_train, y_train, validation_split=0.2, epochs=30, batch_size=32)"
   ]
  },
  {
   "cell_type": "markdown",
   "id": "ff6518fc",
   "metadata": {},
   "source": [
    "## 7. Avaliando o modelo\n",
    "\n",
    "Calculamos acurácia no conjunto de teste e visualizamos algumas previsões."
   ]
  },
  {
   "cell_type": "code",
   "execution_count": null,
   "id": "d00a4ece",
   "metadata": {},
   "outputs": [],
   "source": [
    "test_loss, test_acc = model.evaluate(X_test, y_test)\n",
    "print(f'Acurácia no conjunto de teste: {test_acc:.2f}')\n",
    "\n",
    "y_pred = model.predict(X_test)\n",
    "y_pred_classes = np.argmax(y_pred, axis=1)\n",
    "y_true = np.argmax(y_test, axis=1)\n",
    "\n",
    "plt.figure(figsize=(8,4))\n",
    "for i in range(10):\n",
    "    plt.subplot(2,5,i+1)\n",
    "    plt.imshow(X_test[i].reshape(8,8), cmap='gray')\n",
    "    plt.title(f'T:{y_true[i]} P:{y_pred_classes[i]}')\n",
    "    plt.axis('off')\n",
    "plt.show()"
   ]
  },
  {
   "cell_type": "markdown",
   "id": "50865609",
   "metadata": {},
   "source": [
    "## 8. Conclusão\n",
    "\n",
    "- Aprendemos a construir uma **rede MLP** para classificação de imagens.\n",
    "- Revisamos conceitos de **neurônios, camadas, funções de ativação e backpropagation**.\n",
    "- Vimos a importância do **pré-processamento**, normalização e codificação one-hot.\n",
    "\n",
    "Em aulas futuras, exploraremos **redes convolucionais (CNNs)**, que conseguem extrair padrões espaciais automaticamente e são mais poderosas para imagens complexas."
   ]
  },
  {
   "cell_type": "markdown",
   "id": "5ed2b5a9",
   "metadata": {},
   "source": [
    "# Problema de Classificação com MLP\n",
    "\n",
    "**Título:** Classificação de Espécies de Animais\n",
    "\n",
    "**Descrição:**\n",
    "Desenvolva um modelo de **Rede Neural Perceptron Multicamadas (MLP)** para classificar espécies de animais a partir de suas características físicas, utilizando o **Zoo Dataset** (disponível no Kaggle ou via `sklearn.datasets`). O modelo deve prever corretamente a classe do animal — mamífero, ave, réptil, peixe, anfíbio, inseto ou molusco — com alta acurácia.\n",
    "\n",
    "**Sobre o Dataset:**\n",
    "\n",
    "* **Conjunto:** 101 instâncias, 16 atributos (15 booleanos e 1 numérico — número de patas).\n",
    "* **Classes:** 7 categorias de animais.\n",
    "* **Acesso:** `sklearn.datasets.fetch_openml(name='zoo', version=1)` ou [Kaggle](https://www.kaggle.com/datasets/uciml/zoo-animal-classification).\n",
    "\n",
    "**Tarefas:**\n",
    "\n",
    "1. Carregar e dividir o dataset em **treino (80%)** e **teste (20%)**.\n",
    "2. Implementar uma **MLP** com:\n",
    "\n",
    "   * 1–2 camadas ocultas (10–50 neurônios cada).\n",
    "   * Ativação **ReLU** (ocultas) e **Softmax** (saída).\n",
    "   * Função de perda: **Entropia Cruzada Categórica**.\n",
    "   * Otimizador: **Adam**.\n",
    "3. Avaliar o desempenho com **acurácia, precisão, recall e F1-score**.\n",
    "4. Ajustar **hiperparâmetros** (taxa de aprendizado, número de épocas) e aplicar **regularização** (ex.: dropout) para reduzir overfitting.\n",
    "5. Gerar uma **matriz de confusão** para análise detalhada das classes.\n",
    "\n",
    "**Desafios Extras:**\n",
    "\n",
    "* Tratar o **desbalanceamento de classes**.\n",
    "* **Normalizar** o atributo numérico (número de patas).\n",
    "* Aplicar **validação cruzada** para garantir robustez.\n",
    "\n",
    "**Resultado Esperado:**\n",
    "\n",
    "* Modelo com **acurácia acima de 90%**.\n",
    "* Relatório final com métricas e matriz de confusão."
   ]
  }
 ],
 "metadata": {
  "kernelspec": {
   "display_name": "Python 3",
   "language": "python",
   "name": "python3"
  },
  "language_info": {
   "name": "python",
   "version": "3.11"
  }
 },
 "nbformat": 4,
 "nbformat_minor": 5
}
